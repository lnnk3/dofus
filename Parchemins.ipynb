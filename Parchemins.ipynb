{
 "cells": [
  {
   "cell_type": "markdown",
   "metadata": {},
   "source": [
    "## Programme d'optimisation de l'achat de parchemins DOFUS"
   ]
  },
  {
   "cell_type": "markdown",
   "metadata": {},
   "source": [
    "**Condition** sur les points de caractéristique (pc) pour accéder aux parchemins :\n",
    "* petit (0) : pc < 25\n",
    "* normal (1) : pc < 50\n",
    "* grand (2) : pc < 80\n",
    "* puissant (3) : pc < 100\n",
    "\n",
    "**Gains** de PC par parchemin :\n",
    "* petit (0), normal (1), grand (2) $\\rightarrow$ 1 PC\n",
    "* puissant (3) $\\rightarrow$ 2 PC"
   ]
  },
  {
   "cell_type": "code",
   "execution_count": 14,
   "metadata": {},
   "outputs": [
    {
     "name": "stdout",
     "output_type": "stream",
     "text": [
      "Quel est le prix du petit parchemin ? 3\n",
      "Quel est le prix du parchemin normal ? 14\n",
      "Quel est le prix du grand parchemin ? 17\n",
      "Quel est le prix du parchemin puissant ? 20\n",
      "Quel est ton bonus actuel en points de caractéristiques ? 0\n"
     ]
    }
   ],
   "source": [
    "# On note pi le prix de l'achat d'une unité de parchemin i\n",
    "\n",
    "p0 = int(input('Quel est le prix du petit parchemin ? ')) # 3\n",
    "p1 = int(input('Quel est le prix du parchemin normal ? ')) # 14\n",
    "p2 = int(input('Quel est le prix du grand parchemin ? ')) # 17\n",
    "p3 = int(input('Quel est le prix du parchemin puissant ? ')) # 20\n",
    "\n",
    "# On note pc le total de points de caractéristique détenus au cours du processus.\n",
    "\n",
    "pc = int(input('Quel est ton bonus actuel en points de caractéristiques ? ')) # 0"
   ]
  },
  {
   "cell_type": "code",
   "execution_count": 42,
   "metadata": {},
   "outputs": [],
   "source": [
    "# Soit l_v la liste des valeurs (rapport bénéfice en PC / prix d'achat) des parchemins\n",
    "\n",
    "l_v = [1/p0, 1/p1, 1/p2, 2/p3]"
   ]
  },
  {
   "cell_type": "code",
   "execution_count": 43,
   "metadata": {},
   "outputs": [
    {
     "name": "stdout",
     "output_type": "stream",
     "text": [
      "[0.3333333333333333, 0.07142857142857142, 0.058823529411764705, 0.1]\n"
     ]
    }
   ],
   "source": [
    "print(l_v)"
   ]
  },
  {
   "cell_type": "code",
   "execution_count": 46,
   "metadata": {},
   "outputs": [
    {
     "name": "stdout",
     "output_type": "stream",
     "text": [
      "Bonus en PC : 101\n",
      "Achats optimaux : [25, 0, 0, 38]\n"
     ]
    }
   ],
   "source": [
    "# Soit l_opt la conso optimale de chacun des 4 parchemins. On initialise tout à 0.\n",
    "pc = 0\n",
    "l_opt = [0,0,0,0]\n",
    "\n",
    "while pc < 100:\n",
    "    if pc < 25:\n",
    "        a = l_v.index(max(l_v))\n",
    "        if a in [0,1,2]:\n",
    "            pc += 1\n",
    "            l_opt[a] += 1\n",
    "        else:\n",
    "            pc += 2\n",
    "            l_opt[3] += 1\n",
    "    elif 25 <= pc < 50:\n",
    "        b = l_v.index(max(l_v[1:4]))\n",
    "        if b in [1,2]:\n",
    "            pc += 1\n",
    "            l_opt[b] += 1\n",
    "        else:\n",
    "            pc += 2\n",
    "            l_opt[3] += 1\n",
    "    elif 50 <= pc < 80:\n",
    "        c = l_v.index(max(l_v[2:4]))\n",
    "        if c == 2:\n",
    "            pc += 1\n",
    "            l_opt[2] += 1\n",
    "        else:\n",
    "            pc += 2\n",
    "            l_opt[3] += 1\n",
    "    else:\n",
    "        l_opt[3] += 1\n",
    "        pc += 2\n",
    "\n",
    "print('Bonus en PC :' , pc)\n",
    "print('Achats optimaux :' , l_opt)"
   ]
  },
  {
   "cell_type": "code",
   "execution_count": null,
   "metadata": {},
   "outputs": [],
   "source": []
  }
 ],
 "metadata": {
  "kernelspec": {
   "display_name": "Python 3",
   "language": "python",
   "name": "python3"
  },
  "language_info": {
   "codemirror_mode": {
    "name": "ipython",
    "version": 3
   },
   "file_extension": ".py",
   "mimetype": "text/x-python",
   "name": "python",
   "nbconvert_exporter": "python",
   "pygments_lexer": "ipython3",
   "version": "3.8.3"
  }
 },
 "nbformat": 4,
 "nbformat_minor": 4
}
